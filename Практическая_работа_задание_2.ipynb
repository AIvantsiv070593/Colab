{
  "nbformat": 4,
  "nbformat_minor": 0,
  "metadata": {
    "colab": {
      "provenance": [],
      "authorship_tag": "ABX9TyPLCew9jqUD1Ak0hh7ImOls",
      "include_colab_link": true
    },
    "kernelspec": {
      "name": "python3",
      "display_name": "Python 3"
    },
    "language_info": {
      "name": "python"
    }
  },
  "cells": [
    {
      "cell_type": "markdown",
      "metadata": {
        "id": "view-in-github",
        "colab_type": "text"
      },
      "source": [
        "<a href=\"https://colab.research.google.com/github/AIvantsiv070593/Colab/blob/main/%D0%9F%D1%80%D0%B0%D0%BA%D1%82%D0%B8%D1%87%D0%B5%D1%81%D0%BA%D0%B0%D1%8F_%D1%80%D0%B0%D0%B1%D0%BE%D1%82%D0%B0_%D0%B7%D0%B0%D0%B4%D0%B0%D0%BD%D0%B8%D0%B5_2.ipynb\" target=\"_parent\"><img src=\"https://colab.research.google.com/assets/colab-badge.svg\" alt=\"Open In Colab\"/></a>"
      ]
    },
    {
      "cell_type": "code",
      "source": [
        "!pip3 install optuna"
      ],
      "metadata": {
        "id": "GZokxulBLj_F"
      },
      "execution_count": null,
      "outputs": []
    },
    {
      "cell_type": "code",
      "execution_count": 48,
      "metadata": {
        "id": "qfcI2f00Z5gQ"
      },
      "outputs": [],
      "source": [
        "import csv\n",
        "import pandas as pd\n",
        "import seaborn as sns\n",
        "import optuna\n",
        "\n",
        "from sklearn.model_selection import train_test_split\n",
        "from sklearn.metrics import accuracy_score, confusion_matrix, ConfusionMatrixDisplay\n",
        "from sklearn.preprocessing import normalize\n",
        "from matplotlib import pyplot as plt\n",
        "\n",
        "import xgboost as xgb\n",
        "\n",
        "sns.set()"
      ]
    },
    {
      "cell_type": "code",
      "source": [
        "#Подготовим данные\n",
        "data_file = 'parkinsons.data.csv'\n",
        "\n",
        "df_data = pd.read_csv(data_file, sep=',')\n",
        "y_output = df_data['status']\n",
        "x_input = df_data.drop(['name','status'], axis=1)"
      ],
      "metadata": {
        "id": "o9BSkbeaaaIn"
      },
      "execution_count": 58,
      "outputs": []
    },
    {
      "cell_type": "code",
      "source": [
        "# Нормализуем данные\n",
        "d = normalize(x_input, axis=0)\n",
        "x_input = pd.DataFrame(d, columns=x_input.columns)\n",
        "print(x_input.head())"
      ],
      "metadata": {
        "id": "c_JsptqqCBBO"
      },
      "execution_count": null,
      "outputs": []
    },
    {
      "cell_type": "code",
      "source": [
        "X_train, X_test, y_train, y_test = train_test_split(x_input, y_output, test_size=0.2, random_state=0)\n",
        "xgb_model = xgb.XGBClassifier(objective=\"binary:logistic\", random_state=42)\n",
        "xgb_model.fit(X_train, y_train)"
      ],
      "metadata": {
        "id": "-tFtWU7iAh05"
      },
      "execution_count": null,
      "outputs": []
    },
    {
      "cell_type": "code",
      "source": [
        "# Предсказание категорий для тестовых данных\n",
        "y_pred = xgb_model.predict(X_test)\n",
        "\n",
        "# Оценка точности модели\n",
        "accuracy = accuracy_score(y_test, y_pred)\n",
        "print(f\"Точность модели: {accuracy*100}%\")\n",
        "\n",
        "\n",
        "cm =confusion_matrix(y_test, y_pred)\n",
        "\n",
        "cm_display = ConfusionMatrixDisplay(cm).plot()"
      ],
      "metadata": {
        "colab": {
          "base_uri": "https://localhost:8080/",
          "height": 475
        },
        "id": "Y_cupQu97MWl",
        "outputId": "7c80481a-9658-4070-ead8-4f69cf7b4dc4"
      },
      "execution_count": 61,
      "outputs": [
        {
          "output_type": "stream",
          "name": "stdout",
          "text": [
            "Точность модели: 94.87179487179486%\n"
          ]
        },
        {
          "output_type": "display_data",
          "data": {
            "text/plain": [
              "<Figure size 640x480 with 2 Axes>"
            ],
            "image/png": "[encoded data removed]"
          },
          "metadata": {}
        }
      ]
    },
    {
      "cell_type": "code",
      "source": [
        "# Функиця для определения точности модели с задаными параметрами\n",
        "def objective(trial):\n",
        "    \"\"\"Define the objective function\"\"\"\n",
        "\n",
        "    params = {\n",
        "        'max_depth': trial.suggest_int('max_depth', 1, 9),\n",
        "        'learning_rate': trial.suggest_loguniform('learning_rate', 0.01, 1.0),\n",
        "        'n_estimators': trial.suggest_int('n_estimators', 50, 500),\n",
        "        'min_child_weight': trial.suggest_int('min_child_weight', 1, 10),\n",
        "        'gamma': trial.suggest_loguniform('gamma', 1e-8, 1.0),\n",
        "        'subsample': trial.suggest_loguniform('subsample', 0.01, 1.0),\n",
        "        'colsample_bytree': trial.suggest_loguniform('colsample_bytree', 0.01, 1.0),\n",
        "        'reg_alpha': trial.suggest_loguniform('reg_alpha', 1e-8, 1.0),\n",
        "        'reg_lambda': trial.suggest_loguniform('reg_lambda', 1e-8, 1.0),\n",
        "        'eval_metric': 'mlogloss',\n",
        "        'use_label_encoder': False\n",
        "    }\n",
        "\n",
        "    optuna_model = xgb.XGBClassifier(**params)\n",
        "    optuna_model.fit(X_train, y_train)\n",
        "    y_pred = optuna_model.predict(X_test)\n",
        "    accuracy = accuracy_score(y_test, y_pred)\n",
        "    return accuracy"
      ],
      "metadata": {
        "id": "_Yrp0K1pLyTT"
      },
      "execution_count": 62,
      "outputs": []
    },
    {
      "cell_type": "code",
      "source": [
        "import warnings\n",
        "warnings.filterwarnings('ignore')"
      ],
      "metadata": {
        "id": "RSKKhQS-MJoH"
      },
      "execution_count": 51,
      "outputs": []
    },
    {
      "cell_type": "code",
      "source": [
        "# Найдем лучшую комбинацию параметров для модели\n",
        "study = optuna.create_study(direction='maximize')\n",
        "study.optimize(objective, n_trials=200)\n",
        "\n",
        "# print('Number of finished trials: {}'.format(len(study.trials)))\n",
        "# print('Best trial:')\n",
        "trial = study.best_trial\n",
        "\n",
        "# print('  Value: {}'.format(trial.value))\n",
        "# print('  Params: ')\n",
        "\n",
        "# for key, value in trial.params.items():\n",
        "#     print('    {}: {}'.format(key, value))"
      ],
      "metadata": {
        "id": "f3IH40X8L7iB"
      },
      "execution_count": null,
      "outputs": []
    },
    {
      "cell_type": "code",
      "source": [
        "params = trial.params\n",
        "\n",
        "xgb_model = xgb.XGBClassifier(**params)\n",
        "xgb_model.fit(X_train, y_train)\n",
        "\n",
        "# Предсказание категорий для тестовых данных\n",
        "y_pred = xgb_model.predict(X_test)\n",
        "# print(y_pred)\n",
        "\n",
        "# Оценка точности модели\n",
        "accuracy = accuracy_score(y_test, y_pred)\n",
        "print(f\"Точность модели: {accuracy*100}%\")\n",
        "\n",
        "\n",
        "cm =confusion_matrix(y_test, y_pred)\n",
        "\n",
        "cm_display = ConfusionMatrixDisplay(cm).plot()"
      ],
      "metadata": {
        "colab": {
          "base_uri": "https://localhost:8080/",
          "height": 475
        },
        "id": "RxaoVzyROgUL",
        "outputId": "fe3add35-5e79-4921-9faa-885370632946"
      },
      "execution_count": 65,
      "outputs": [
        {
          "output_type": "stream",
          "name": "stdout",
          "text": [
            "Точность модели: 97.43589743589743%\n"
          ]
        },
        {
          "output_type": "display_data",
          "data": {
            "text/plain": [
              "<Figure size 640x480 with 2 Axes>"
            ],
            "image/png": "[encoded data removed]"
          },
          "metadata": {}
        }
      ]
    }
  ]
}